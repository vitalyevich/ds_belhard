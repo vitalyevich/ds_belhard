{
  "nbformat": 4,
  "nbformat_minor": 0,
  "metadata": {
    "colab": {
      "provenance": [],
      "authorship_tag": "ABX9TyObuUC5+kgoSDXBJNyieQM9",
      "include_colab_link": true
    },
    "kernelspec": {
      "name": "python3",
      "display_name": "Python 3"
    },
    "language_info": {
      "name": "python"
    }
  },
  "cells": [
    {
      "cell_type": "markdown",
      "metadata": {
        "id": "view-in-github",
        "colab_type": "text"
      },
      "source": [
        "<a href=\"https://colab.research.google.com/github/vitalyevich/ds_2_belhard/blob/develop/work1.ipynb\" target=\"_parent\"><img src=\"https://colab.research.google.com/assets/colab-badge.svg\" alt=\"Open In Colab\"/></a>"
      ]
    },
    {
      "cell_type": "code",
      "execution_count": 10,
      "metadata": {
        "id": "WiJM_5uooVYg"
      },
      "outputs": [],
      "source": [
        "# Создаём список словарей с информацией о книгах\n",
        "books = [\n",
        "    {\n",
        "        \"author\": \"Джордж Оруэлл\",\n",
        "        \"title\": \"1984\",\n",
        "        \"year\": 1949,\n",
        "        \"genre\": \"Антиутопия\"\n",
        "    },\n",
        "    {\n",
        "        \"author\": \"Фёдор Достоевский\",\n",
        "        \"title\": \"Преступление и наказание\",\n",
        "        \"year\": 1866,\n",
        "        \"genre\": \"Роман\"\n",
        "    },\n",
        "    {\n",
        "        \"author\": \"Лев Толстой\",\n",
        "        \"title\": \"Война и мир\",\n",
        "        \"year\": 1869,\n",
        "        \"genre\": \"Исторический роман\"\n",
        "    },\n",
        "    {\n",
        "        \"author\": \"Дж. К. Роулинг\",\n",
        "        \"title\": \"Гарри Поттер и философский камень\",\n",
        "        \"year\": 1997,\n",
        "        \"genre\": \"Фэнтези\"\n",
        "    },\n",
        "    {\n",
        "        \"author\": \"Рэй Брэдбери\",\n",
        "        \"title\": \"451° по Фаренгейту\",\n",
        "        \"year\": 1953,\n",
        "        \"genre\": \"Фантастика\"\n",
        "    }\n",
        "]"
      ]
    },
    {
      "cell_type": "code",
      "source": [
        "# Выводим информацию о каждой книге в заданном формате\n",
        "for book in books:\n",
        "    print(f'Название: {book[\"title\"]}, Автор: {book[\"author\"]}, Год: {book[\"year\"]}, Жанр: {book[\"genre\"]}')"
      ],
      "metadata": {
        "colab": {
          "base_uri": "https://localhost:8080/"
        },
        "id": "eMdbOVIwsKUo",
        "outputId": "e6a7e06d-8860-4739-8a2a-59c2e432125b"
      },
      "execution_count": 11,
      "outputs": [
        {
          "output_type": "stream",
          "name": "stdout",
          "text": [
            "Название: 1984, Автор: Джордж Оруэлл, Год: 1949, Жанр: Антиутопия\n",
            "Название: Преступление и наказание, Автор: Фёдор Достоевский, Год: 1866, Жанр: Роман\n",
            "Название: Война и мир, Автор: Лев Толстой, Год: 1869, Жанр: Исторический роман\n",
            "Название: Гарри Поттер и философский камень, Автор: Дж. К. Роулинг, Год: 1997, Жанр: Фэнтези\n",
            "Название: 451° по Фаренгейту, Автор: Рэй Брэдбери, Год: 1953, Жанр: Фантастика\n"
          ]
        }
      ]
    },
    {
      "cell_type": "markdown",
      "source": [
        "Алгоритм имеет линейную временную сложность **O(N)**, так как он последовательно проходит по списку из N книг и для каждой книги выполняет фиксированное количество операций (доступ к полям словаря и вывод данных). Следовательно, общее время работы растёт прямо пропорционально количеству книг."
      ],
      "metadata": {
        "id": "HeQ_4WHssTvd"
      }
    }
  ]
}